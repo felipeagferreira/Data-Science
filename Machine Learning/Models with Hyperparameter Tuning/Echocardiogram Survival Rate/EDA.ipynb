{
 "cells": [
  {
   "cell_type": "code",
   "execution_count": 1,
   "metadata": {},
   "outputs": [],
   "source": [
    "import pandas as pd\n",
    "import numpy as np\n",
    "import matplotlib.pyplot as plt\n",
    "import seaborn as sns\n",
    "%matplotlib inline"
   ]
  },
  {
   "cell_type": "code",
   "execution_count": 2,
   "metadata": {},
   "outputs": [
    {
     "data": {
      "text/html": [
       "<div>\n",
       "<style scoped>\n",
       "    .dataframe tbody tr th:only-of-type {\n",
       "        vertical-align: middle;\n",
       "    }\n",
       "\n",
       "    .dataframe tbody tr th {\n",
       "        vertical-align: top;\n",
       "    }\n",
       "\n",
       "    .dataframe thead th {\n",
       "        text-align: right;\n",
       "    }\n",
       "</style>\n",
       "<table border=\"1\" class=\"dataframe\">\n",
       "  <thead>\n",
       "    <tr style=\"text-align: right;\">\n",
       "      <th></th>\n",
       "      <th>survival</th>\n",
       "      <th>still-alive</th>\n",
       "      <th>age-at-heart-attack</th>\n",
       "      <th>pericardial-effusion</th>\n",
       "      <th>fractional-shortening</th>\n",
       "      <th>epss</th>\n",
       "      <th>lvdd</th>\n",
       "      <th>wall-motion-score</th>\n",
       "      <th>wall-motion-index</th>\n",
       "      <th>mult</th>\n",
       "      <th>name</th>\n",
       "      <th>group</th>\n",
       "      <th>alive-at-1</th>\n",
       "    </tr>\n",
       "  </thead>\n",
       "  <tbody>\n",
       "    <tr>\n",
       "      <th>0</th>\n",
       "      <td>11.0</td>\n",
       "      <td>0</td>\n",
       "      <td>71</td>\n",
       "      <td>0</td>\n",
       "      <td>0.260</td>\n",
       "      <td>9</td>\n",
       "      <td>4.600</td>\n",
       "      <td>14</td>\n",
       "      <td>1</td>\n",
       "      <td>1</td>\n",
       "      <td>name</td>\n",
       "      <td>1</td>\n",
       "      <td>0</td>\n",
       "    </tr>\n",
       "    <tr>\n",
       "      <th>1</th>\n",
       "      <td>19.0</td>\n",
       "      <td>0</td>\n",
       "      <td>72</td>\n",
       "      <td>0</td>\n",
       "      <td>0.380</td>\n",
       "      <td>6</td>\n",
       "      <td>4.100</td>\n",
       "      <td>14</td>\n",
       "      <td>1.700</td>\n",
       "      <td>0.588</td>\n",
       "      <td>name</td>\n",
       "      <td>1</td>\n",
       "      <td>0</td>\n",
       "    </tr>\n",
       "    <tr>\n",
       "      <th>2</th>\n",
       "      <td>16.0</td>\n",
       "      <td>0</td>\n",
       "      <td>55</td>\n",
       "      <td>0</td>\n",
       "      <td>0.260</td>\n",
       "      <td>4</td>\n",
       "      <td>3.420</td>\n",
       "      <td>14</td>\n",
       "      <td>1</td>\n",
       "      <td>1</td>\n",
       "      <td>name</td>\n",
       "      <td>1</td>\n",
       "      <td>0</td>\n",
       "    </tr>\n",
       "    <tr>\n",
       "      <th>3</th>\n",
       "      <td>57.0</td>\n",
       "      <td>0</td>\n",
       "      <td>60</td>\n",
       "      <td>0</td>\n",
       "      <td>0.253</td>\n",
       "      <td>12.062</td>\n",
       "      <td>4.603</td>\n",
       "      <td>16</td>\n",
       "      <td>1.450</td>\n",
       "      <td>0.788</td>\n",
       "      <td>name</td>\n",
       "      <td>1</td>\n",
       "      <td>0</td>\n",
       "    </tr>\n",
       "    <tr>\n",
       "      <th>4</th>\n",
       "      <td>19.0</td>\n",
       "      <td>1</td>\n",
       "      <td>57</td>\n",
       "      <td>0</td>\n",
       "      <td>0.160</td>\n",
       "      <td>22</td>\n",
       "      <td>5.750</td>\n",
       "      <td>18</td>\n",
       "      <td>2.250</td>\n",
       "      <td>0.571</td>\n",
       "      <td>name</td>\n",
       "      <td>1</td>\n",
       "      <td>0</td>\n",
       "    </tr>\n",
       "    <tr>\n",
       "      <th>5</th>\n",
       "      <td>26.0</td>\n",
       "      <td>0</td>\n",
       "      <td>68</td>\n",
       "      <td>0</td>\n",
       "      <td>0.260</td>\n",
       "      <td>5</td>\n",
       "      <td>4.310</td>\n",
       "      <td>12</td>\n",
       "      <td>1</td>\n",
       "      <td>0.857</td>\n",
       "      <td>name</td>\n",
       "      <td>1</td>\n",
       "      <td>0</td>\n",
       "    </tr>\n",
       "    <tr>\n",
       "      <th>6</th>\n",
       "      <td>13.0</td>\n",
       "      <td>0</td>\n",
       "      <td>62</td>\n",
       "      <td>0</td>\n",
       "      <td>0.230</td>\n",
       "      <td>31</td>\n",
       "      <td>5.430</td>\n",
       "      <td>22.5</td>\n",
       "      <td>1.875</td>\n",
       "      <td>0.857</td>\n",
       "      <td>name</td>\n",
       "      <td>1</td>\n",
       "      <td>0</td>\n",
       "    </tr>\n",
       "    <tr>\n",
       "      <th>7</th>\n",
       "      <td>50.0</td>\n",
       "      <td>0</td>\n",
       "      <td>60</td>\n",
       "      <td>0</td>\n",
       "      <td>0.330</td>\n",
       "      <td>8</td>\n",
       "      <td>5.250</td>\n",
       "      <td>14</td>\n",
       "      <td>1</td>\n",
       "      <td>1</td>\n",
       "      <td>name</td>\n",
       "      <td>1</td>\n",
       "      <td>0</td>\n",
       "    </tr>\n",
       "    <tr>\n",
       "      <th>8</th>\n",
       "      <td>19.0</td>\n",
       "      <td>0</td>\n",
       "      <td>46</td>\n",
       "      <td>0</td>\n",
       "      <td>0.340</td>\n",
       "      <td>0</td>\n",
       "      <td>5.090</td>\n",
       "      <td>16</td>\n",
       "      <td>1.140</td>\n",
       "      <td>1.003</td>\n",
       "      <td>name</td>\n",
       "      <td>1</td>\n",
       "      <td>0</td>\n",
       "    </tr>\n",
       "    <tr>\n",
       "      <th>9</th>\n",
       "      <td>25.0</td>\n",
       "      <td>0</td>\n",
       "      <td>54</td>\n",
       "      <td>0</td>\n",
       "      <td>0.140</td>\n",
       "      <td>13</td>\n",
       "      <td>4.490</td>\n",
       "      <td>15.5</td>\n",
       "      <td>1.190</td>\n",
       "      <td>0.930</td>\n",
       "      <td>name</td>\n",
       "      <td>1</td>\n",
       "      <td>0</td>\n",
       "    </tr>\n",
       "    <tr>\n",
       "      <th>10</th>\n",
       "      <td>10.0</td>\n",
       "      <td>1</td>\n",
       "      <td>77</td>\n",
       "      <td>0</td>\n",
       "      <td>0.130</td>\n",
       "      <td>16</td>\n",
       "      <td>4.230</td>\n",
       "      <td>18</td>\n",
       "      <td>1.800</td>\n",
       "      <td>0.714</td>\n",
       "      <td>name</td>\n",
       "      <td>1</td>\n",
       "      <td>1</td>\n",
       "    </tr>\n",
       "    <tr>\n",
       "      <th>11</th>\n",
       "      <td>52.0</td>\n",
       "      <td>0</td>\n",
       "      <td>62</td>\n",
       "      <td>1</td>\n",
       "      <td>0.450</td>\n",
       "      <td>9</td>\n",
       "      <td>3.600</td>\n",
       "      <td>16</td>\n",
       "      <td>1.140</td>\n",
       "      <td>1.003</td>\n",
       "      <td>name</td>\n",
       "      <td>1</td>\n",
       "      <td>0</td>\n",
       "    </tr>\n",
       "    <tr>\n",
       "      <th>12</th>\n",
       "      <td>52.0</td>\n",
       "      <td>0</td>\n",
       "      <td>73</td>\n",
       "      <td>0</td>\n",
       "      <td>0.330</td>\n",
       "      <td>6</td>\n",
       "      <td>4</td>\n",
       "      <td>14</td>\n",
       "      <td>1</td>\n",
       "      <td>1</td>\n",
       "      <td>name</td>\n",
       "      <td>1</td>\n",
       "      <td>0</td>\n",
       "    </tr>\n",
       "    <tr>\n",
       "      <th>13</th>\n",
       "      <td>44.0</td>\n",
       "      <td>0</td>\n",
       "      <td>60</td>\n",
       "      <td>0</td>\n",
       "      <td>0.150</td>\n",
       "      <td>10</td>\n",
       "      <td>3.730</td>\n",
       "      <td>14</td>\n",
       "      <td>1</td>\n",
       "      <td>1</td>\n",
       "      <td>name</td>\n",
       "      <td>1</td>\n",
       "      <td>0</td>\n",
       "    </tr>\n",
       "    <tr>\n",
       "      <th>14</th>\n",
       "      <td>0.5</td>\n",
       "      <td>1</td>\n",
       "      <td>62</td>\n",
       "      <td>0</td>\n",
       "      <td>0.120</td>\n",
       "      <td>23</td>\n",
       "      <td>5.800</td>\n",
       "      <td>11.67</td>\n",
       "      <td>2.330</td>\n",
       "      <td>0.358</td>\n",
       "      <td>name</td>\n",
       "      <td>1</td>\n",
       "      <td>1</td>\n",
       "    </tr>\n",
       "    <tr>\n",
       "      <th>15</th>\n",
       "      <td>24.0</td>\n",
       "      <td>0</td>\n",
       "      <td>55</td>\n",
       "      <td>1</td>\n",
       "      <td>0.250</td>\n",
       "      <td>12.063</td>\n",
       "      <td>4.290</td>\n",
       "      <td>14</td>\n",
       "      <td>1</td>\n",
       "      <td>1</td>\n",
       "      <td>name</td>\n",
       "      <td>1</td>\n",
       "      <td>0</td>\n",
       "    </tr>\n",
       "    <tr>\n",
       "      <th>16</th>\n",
       "      <td>0.5</td>\n",
       "      <td>1</td>\n",
       "      <td>69</td>\n",
       "      <td>1</td>\n",
       "      <td>0.260</td>\n",
       "      <td>11</td>\n",
       "      <td>4.650</td>\n",
       "      <td>18</td>\n",
       "      <td>1.640</td>\n",
       "      <td>0.784</td>\n",
       "      <td>name</td>\n",
       "      <td>1</td>\n",
       "      <td>1</td>\n",
       "    </tr>\n",
       "    <tr>\n",
       "      <th>17</th>\n",
       "      <td>0.5</td>\n",
       "      <td>1</td>\n",
       "      <td>62.529</td>\n",
       "      <td>1</td>\n",
       "      <td>0.070</td>\n",
       "      <td>20</td>\n",
       "      <td>5.200</td>\n",
       "      <td>24</td>\n",
       "      <td>2</td>\n",
       "      <td>0.857</td>\n",
       "      <td>name</td>\n",
       "      <td>1</td>\n",
       "      <td>1</td>\n",
       "    </tr>\n",
       "    <tr>\n",
       "      <th>18</th>\n",
       "      <td>22.0</td>\n",
       "      <td>1</td>\n",
       "      <td>66</td>\n",
       "      <td>0</td>\n",
       "      <td>0.090</td>\n",
       "      <td>17</td>\n",
       "      <td>5.819</td>\n",
       "      <td>8</td>\n",
       "      <td>1.333</td>\n",
       "      <td>0.429</td>\n",
       "      <td>name</td>\n",
       "      <td>1</td>\n",
       "      <td>0</td>\n",
       "    </tr>\n",
       "    <tr>\n",
       "      <th>19</th>\n",
       "      <td>1.0</td>\n",
       "      <td>1</td>\n",
       "      <td>66</td>\n",
       "      <td>1</td>\n",
       "      <td>0.220</td>\n",
       "      <td>15</td>\n",
       "      <td>5.400</td>\n",
       "      <td>27</td>\n",
       "      <td>2.250</td>\n",
       "      <td>0.857</td>\n",
       "      <td>name</td>\n",
       "      <td>1</td>\n",
       "      <td>1</td>\n",
       "    </tr>\n",
       "  </tbody>\n",
       "</table>\n",
       "</div>"
      ],
      "text/plain": [
       "    survival  still-alive age-at-heart-attack  pericardial-effusion  \\\n",
       "0       11.0            0                  71                     0   \n",
       "1       19.0            0                  72                     0   \n",
       "2       16.0            0                  55                     0   \n",
       "3       57.0            0                  60                     0   \n",
       "4       19.0            1                  57                     0   \n",
       "5       26.0            0                  68                     0   \n",
       "6       13.0            0                  62                     0   \n",
       "7       50.0            0                  60                     0   \n",
       "8       19.0            0                  46                     0   \n",
       "9       25.0            0                  54                     0   \n",
       "10      10.0            1                  77                     0   \n",
       "11      52.0            0                  62                     1   \n",
       "12      52.0            0                  73                     0   \n",
       "13      44.0            0                  60                     0   \n",
       "14       0.5            1                  62                     0   \n",
       "15      24.0            0                  55                     1   \n",
       "16       0.5            1                  69                     1   \n",
       "17       0.5            1              62.529                     1   \n",
       "18      22.0            1                  66                     0   \n",
       "19       1.0            1                  66                     1   \n",
       "\n",
       "   fractional-shortening    epss   lvdd wall-motion-score wall-motion-index  \\\n",
       "0                  0.260       9  4.600                14                 1   \n",
       "1                  0.380       6  4.100                14             1.700   \n",
       "2                  0.260       4  3.420                14                 1   \n",
       "3                  0.253  12.062  4.603                16             1.450   \n",
       "4                  0.160      22  5.750                18             2.250   \n",
       "5                  0.260       5  4.310                12                 1   \n",
       "6                  0.230      31  5.430              22.5             1.875   \n",
       "7                  0.330       8  5.250                14                 1   \n",
       "8                  0.340       0  5.090                16             1.140   \n",
       "9                  0.140      13  4.490              15.5             1.190   \n",
       "10                 0.130      16  4.230                18             1.800   \n",
       "11                 0.450       9  3.600                16             1.140   \n",
       "12                 0.330       6      4                14                 1   \n",
       "13                 0.150      10  3.730                14                 1   \n",
       "14                 0.120      23  5.800             11.67             2.330   \n",
       "15                 0.250  12.063  4.290                14                 1   \n",
       "16                 0.260      11  4.650                18             1.640   \n",
       "17                 0.070      20  5.200                24                 2   \n",
       "18                 0.090      17  5.819                 8             1.333   \n",
       "19                 0.220      15  5.400                27             2.250   \n",
       "\n",
       "     mult  name group alive-at-1  \n",
       "0       1  name     1          0  \n",
       "1   0.588  name     1          0  \n",
       "2       1  name     1          0  \n",
       "3   0.788  name     1          0  \n",
       "4   0.571  name     1          0  \n",
       "5   0.857  name     1          0  \n",
       "6   0.857  name     1          0  \n",
       "7       1  name     1          0  \n",
       "8   1.003  name     1          0  \n",
       "9   0.930  name     1          0  \n",
       "10  0.714  name     1          1  \n",
       "11  1.003  name     1          0  \n",
       "12      1  name     1          0  \n",
       "13      1  name     1          0  \n",
       "14  0.358  name     1          1  \n",
       "15      1  name     1          0  \n",
       "16  0.784  name     1          1  \n",
       "17  0.857  name     1          1  \n",
       "18  0.429  name     1          0  \n",
       "19  0.857  name     1          1  "
      ]
     },
     "execution_count": 2,
     "metadata": {},
     "output_type": "execute_result"
    }
   ],
   "source": [
    "names = ['survival', 'still-alive', 'age-at-heart-attack', 'pericardial-effusion', 'fractional-shortening', \n",
    "         'epss', 'lvdd', 'wall-motion-score', 'wall-motion-index', 'mult', 'name', 'group', 'alive-at-1']\n",
    "df1 = pd.read_table('echocardiogram.data', sep=',', names=names)\n",
    "df1.head(20)"
   ]
  },
  {
   "cell_type": "markdown",
   "metadata": {},
   "source": [
    "#### Now we drop the meaningless columns"
   ]
  },
  {
   "cell_type": "code",
   "execution_count": 3,
   "metadata": {},
   "outputs": [
    {
     "data": {
      "text/html": [
       "<div>\n",
       "<style scoped>\n",
       "    .dataframe tbody tr th:only-of-type {\n",
       "        vertical-align: middle;\n",
       "    }\n",
       "\n",
       "    .dataframe tbody tr th {\n",
       "        vertical-align: top;\n",
       "    }\n",
       "\n",
       "    .dataframe thead th {\n",
       "        text-align: right;\n",
       "    }\n",
       "</style>\n",
       "<table border=\"1\" class=\"dataframe\">\n",
       "  <thead>\n",
       "    <tr style=\"text-align: right;\">\n",
       "      <th></th>\n",
       "      <th>survival</th>\n",
       "      <th>still-alive</th>\n",
       "      <th>age-at-heart-attack</th>\n",
       "      <th>pericardial-effusion</th>\n",
       "      <th>fractional-shortening</th>\n",
       "      <th>epss</th>\n",
       "      <th>lvdd</th>\n",
       "      <th>wall-motion-score</th>\n",
       "      <th>wall-motion-index</th>\n",
       "      <th>mult</th>\n",
       "    </tr>\n",
       "  </thead>\n",
       "  <tbody>\n",
       "    <tr>\n",
       "      <th>0</th>\n",
       "      <td>11.0</td>\n",
       "      <td>0</td>\n",
       "      <td>71</td>\n",
       "      <td>0</td>\n",
       "      <td>0.260</td>\n",
       "      <td>9</td>\n",
       "      <td>4.600</td>\n",
       "      <td>14</td>\n",
       "      <td>1</td>\n",
       "      <td>1</td>\n",
       "    </tr>\n",
       "    <tr>\n",
       "      <th>1</th>\n",
       "      <td>19.0</td>\n",
       "      <td>0</td>\n",
       "      <td>72</td>\n",
       "      <td>0</td>\n",
       "      <td>0.380</td>\n",
       "      <td>6</td>\n",
       "      <td>4.100</td>\n",
       "      <td>14</td>\n",
       "      <td>1.700</td>\n",
       "      <td>0.588</td>\n",
       "    </tr>\n",
       "    <tr>\n",
       "      <th>2</th>\n",
       "      <td>16.0</td>\n",
       "      <td>0</td>\n",
       "      <td>55</td>\n",
       "      <td>0</td>\n",
       "      <td>0.260</td>\n",
       "      <td>4</td>\n",
       "      <td>3.420</td>\n",
       "      <td>14</td>\n",
       "      <td>1</td>\n",
       "      <td>1</td>\n",
       "    </tr>\n",
       "    <tr>\n",
       "      <th>3</th>\n",
       "      <td>57.0</td>\n",
       "      <td>0</td>\n",
       "      <td>60</td>\n",
       "      <td>0</td>\n",
       "      <td>0.253</td>\n",
       "      <td>12.062</td>\n",
       "      <td>4.603</td>\n",
       "      <td>16</td>\n",
       "      <td>1.450</td>\n",
       "      <td>0.788</td>\n",
       "    </tr>\n",
       "    <tr>\n",
       "      <th>4</th>\n",
       "      <td>19.0</td>\n",
       "      <td>1</td>\n",
       "      <td>57</td>\n",
       "      <td>0</td>\n",
       "      <td>0.160</td>\n",
       "      <td>22</td>\n",
       "      <td>5.750</td>\n",
       "      <td>18</td>\n",
       "      <td>2.250</td>\n",
       "      <td>0.571</td>\n",
       "    </tr>\n",
       "  </tbody>\n",
       "</table>\n",
       "</div>"
      ],
      "text/plain": [
       "   survival  still-alive age-at-heart-attack  pericardial-effusion  \\\n",
       "0      11.0            0                  71                     0   \n",
       "1      19.0            0                  72                     0   \n",
       "2      16.0            0                  55                     0   \n",
       "3      57.0            0                  60                     0   \n",
       "4      19.0            1                  57                     0   \n",
       "\n",
       "  fractional-shortening    epss   lvdd wall-motion-score wall-motion-index  \\\n",
       "0                 0.260       9  4.600                14                 1   \n",
       "1                 0.380       6  4.100                14             1.700   \n",
       "2                 0.260       4  3.420                14                 1   \n",
       "3                 0.253  12.062  4.603                16             1.450   \n",
       "4                 0.160      22  5.750                18             2.250   \n",
       "\n",
       "    mult  \n",
       "0      1  \n",
       "1  0.588  \n",
       "2      1  \n",
       "3  0.788  \n",
       "4  0.571  "
      ]
     },
     "execution_count": 3,
     "metadata": {},
     "output_type": "execute_result"
    }
   ],
   "source": [
    "df1 = df1.drop(['name', 'group', 'alive-at-1'], axis=1)\n",
    "df1.head()"
   ]
  },
  {
   "cell_type": "code",
   "execution_count": 4,
   "metadata": {},
   "outputs": [
    {
     "data": {
      "text/plain": [
       "survival                 0\n",
       "still-alive              0\n",
       "age-at-heart-attack      0\n",
       "pericardial-effusion     0\n",
       "fractional-shortening    0\n",
       "epss                     0\n",
       "lvdd                     0\n",
       "wall-motion-score        0\n",
       "wall-motion-index        0\n",
       "mult                     0\n",
       "dtype: int64"
      ]
     },
     "execution_count": 4,
     "metadata": {},
     "output_type": "execute_result"
    }
   ],
   "source": [
    "df1.isnull().sum()"
   ]
  },
  {
   "cell_type": "code",
   "execution_count": 5,
   "metadata": {},
   "outputs": [
    {
     "name": "stdout",
     "output_type": "stream",
     "text": [
      "<class 'pandas.core.frame.DataFrame'>\n",
      "RangeIndex: 110 entries, 0 to 109\n",
      "Data columns (total 10 columns):\n",
      " #   Column                 Non-Null Count  Dtype  \n",
      "---  ------                 --------------  -----  \n",
      " 0   survival               110 non-null    float64\n",
      " 1   still-alive            110 non-null    int64  \n",
      " 2   age-at-heart-attack    110 non-null    object \n",
      " 3   pericardial-effusion   110 non-null    int64  \n",
      " 4   fractional-shortening  110 non-null    object \n",
      " 5   epss                   110 non-null    object \n",
      " 6   lvdd                   110 non-null    object \n",
      " 7   wall-motion-score      110 non-null    object \n",
      " 8   wall-motion-index      110 non-null    object \n",
      " 9   mult                   110 non-null    object \n",
      "dtypes: float64(1), int64(2), object(7)\n",
      "memory usage: 8.7+ KB\n"
     ]
    }
   ],
   "source": [
    "df1.info()"
   ]
  },
  {
   "cell_type": "markdown",
   "metadata": {},
   "source": [
    "#### Let's convert the object variables into numeric using errors = coerce to transform the unknown \"?\" into NaN"
   ]
  },
  {
   "cell_type": "code",
   "execution_count": 6,
   "metadata": {},
   "outputs": [],
   "source": [
    "df1[['age-at-heart-attack', 'fractional-shortening', 'epss', 'lvdd', 'wall-motion-score',\n",
    "   'wall-motion-index', 'mult']] = df1[['age-at-heart-attack', 'fractional-shortening', 'epss', 'lvdd', 'wall-motion-score',\n",
    "   'wall-motion-index', 'mult']].apply(pd.to_numeric, errors = 'coerce')"
   ]
  },
  {
   "cell_type": "code",
   "execution_count": 7,
   "metadata": {},
   "outputs": [
    {
     "name": "stdout",
     "output_type": "stream",
     "text": [
      "<class 'pandas.core.frame.DataFrame'>\n",
      "RangeIndex: 110 entries, 0 to 109\n",
      "Data columns (total 10 columns):\n",
      " #   Column                 Non-Null Count  Dtype  \n",
      "---  ------                 --------------  -----  \n",
      " 0   survival               110 non-null    float64\n",
      " 1   still-alive            110 non-null    int64  \n",
      " 2   age-at-heart-attack    108 non-null    float64\n",
      " 3   pericardial-effusion   110 non-null    int64  \n",
      " 4   fractional-shortening  103 non-null    float64\n",
      " 5   epss                   96 non-null     float64\n",
      " 6   lvdd                   100 non-null    float64\n",
      " 7   wall-motion-score      107 non-null    float64\n",
      " 8   wall-motion-index      109 non-null    float64\n",
      " 9   mult                   107 non-null    float64\n",
      "dtypes: float64(8), int64(2)\n",
      "memory usage: 8.7 KB\n"
     ]
    }
   ],
   "source": [
    "df1.info()"
   ]
  },
  {
   "cell_type": "code",
   "execution_count": null,
   "metadata": {},
   "outputs": [],
   "source": []
  },
  {
   "cell_type": "markdown",
   "metadata": {},
   "source": [
    "#### In this module we will exclude the censored data related to the patients that have survived less than one year but are still alive "
   ]
  },
  {
   "cell_type": "code",
   "execution_count": 8,
   "metadata": {},
   "outputs": [
    {
     "name": "stdout",
     "output_type": "stream",
     "text": [
      "<class 'pandas.core.frame.DataFrame'>\n",
      "Int64Index: 33 entries, 10 to 107\n",
      "Data columns (total 10 columns):\n",
      " #   Column                 Non-Null Count  Dtype  \n",
      "---  ------                 --------------  -----  \n",
      " 0   survival               33 non-null     float64\n",
      " 1   still-alive            33 non-null     int64  \n",
      " 2   age-at-heart-attack    31 non-null     float64\n",
      " 3   pericardial-effusion   33 non-null     int64  \n",
      " 4   fractional-shortening  29 non-null     float64\n",
      " 5   epss                   28 non-null     float64\n",
      " 6   lvdd                   27 non-null     float64\n",
      " 7   wall-motion-score      31 non-null     float64\n",
      " 8   wall-motion-index      32 non-null     float64\n",
      " 9   mult                   31 non-null     float64\n",
      "dtypes: float64(8), int64(2)\n",
      "memory usage: 2.8 KB\n"
     ]
    }
   ],
   "source": [
    "df1_DirtyAlive = df1[(df1['survival']<12) & (df1['still-alive']==1)]\n",
    "df1_DirtyAlive.info()"
   ]
  },
  {
   "cell_type": "code",
   "execution_count": 9,
   "metadata": {},
   "outputs": [
    {
     "data": {
      "text/plain": [
       "Int64Index([ 10,  14,  16,  17,  19,  20,  21,  22,  23,  28,  30,  31,  32,\n",
       "             37,  44,  48,  49,  50,  53,  62,  65,  69,  75,  76,  82,  83,\n",
       "             85,  89,  96,  97, 102, 106, 107],\n",
       "           dtype='int64')"
      ]
     },
     "execution_count": 9,
     "metadata": {},
     "output_type": "execute_result"
    }
   ],
   "source": [
    "df1_DirtyAlive.index"
   ]
  },
  {
   "cell_type": "code",
   "execution_count": 10,
   "metadata": {},
   "outputs": [
    {
     "name": "stdout",
     "output_type": "stream",
     "text": [
      "<class 'pandas.core.frame.DataFrame'>\n",
      "Int64Index: 77 entries, 0 to 109\n",
      "Data columns (total 10 columns):\n",
      " #   Column                 Non-Null Count  Dtype  \n",
      "---  ------                 --------------  -----  \n",
      " 0   survival               77 non-null     float64\n",
      " 1   still-alive            77 non-null     int64  \n",
      " 2   age-at-heart-attack    77 non-null     float64\n",
      " 3   pericardial-effusion   77 non-null     int64  \n",
      " 4   fractional-shortening  74 non-null     float64\n",
      " 5   epss                   68 non-null     float64\n",
      " 6   lvdd                   73 non-null     float64\n",
      " 7   wall-motion-score      76 non-null     float64\n",
      " 8   wall-motion-index      77 non-null     float64\n",
      " 9   mult                   76 non-null     float64\n",
      "dtypes: float64(8), int64(2)\n",
      "memory usage: 6.6 KB\n"
     ]
    }
   ],
   "source": [
    "df1 = df1.drop(labels=df1_DirtyAlive.index, axis=0)\n",
    "\n",
    "\n",
    "df1.info()"
   ]
  },
  {
   "cell_type": "markdown",
   "metadata": {},
   "source": [
    "#### Let's split the feature columns into discrete and continuous "
   ]
  },
  {
   "cell_type": "code",
   "execution_count": 11,
   "metadata": {},
   "outputs": [],
   "source": [
    "discrete = ['pericardial-effusion']\n",
    "continuous = df1.drop(['pericardial-effusion', 'still-alive'], axis=1).columns"
   ]
  },
  {
   "cell_type": "code",
   "execution_count": 12,
   "metadata": {},
   "outputs": [
    {
     "name": "stdout",
     "output_type": "stream",
     "text": [
      "Index(['survival', 'age-at-heart-attack', 'fractional-shortening', 'epss',\n",
      "       'lvdd', 'wall-motion-score', 'wall-motion-index', 'mult'],\n",
      "      dtype='object')\n"
     ]
    }
   ],
   "source": [
    "print(continuous)"
   ]
  },
  {
   "cell_type": "markdown",
   "metadata": {},
   "source": [
    "#### In this work we will first identify the features with outliers to fill their null values with median(), and fill the null values of the others with median(). "
   ]
  },
  {
   "cell_type": "code",
   "execution_count": 13,
   "metadata": {},
   "outputs": [
    {
     "data": {
      "image/png": "[encoded data removed]",
      "text/plain": [
       "<Figure size 432x288 with 1 Axes>"
      ]
     },
     "metadata": {
      "needs_background": "light"
     },
     "output_type": "display_data"
    },
    {
     "data": {
      "image/png": "[encoded data removed]",
      "text/plain": [
       "<Figure size 432x288 with 1 Axes>"
      ]
     },
     "metadata": {
      "needs_background": "light"
     },
     "output_type": "display_data"
    },
    {
     "data": {
      "image/png": "[encoded data removed]",
      "text/plain": [
       "<Figure size 432x288 with 1 Axes>"
      ]
     },
     "metadata": {
      "needs_background": "light"
     },
     "output_type": "display_data"
    },
    {
     "data": {
      "image/png": "[encoded data removed]",
      "text/plain": [
       "<Figure size 432x288 with 1 Axes>"
      ]
     },
     "metadata": {
      "needs_background": "light"
     },
     "output_type": "display_data"
    },
    {
     "data": {
      "image/png": "[encoded data removed]",
      "text/plain": [
       "<Figure size 432x288 with 1 Axes>"
      ]
     },
     "metadata": {
      "needs_background": "light"
     },
     "output_type": "display_data"
    },
    {
     "data": {
      "image/png": "[encoded data removed]",
      "text/plain": [
       "<Figure size 432x288 with 1 Axes>"
      ]
     },
     "metadata": {
      "needs_background": "light"
     },
     "output_type": "display_data"
    },
    {
     "data": {
      "image/png": "[encoded data removed]",
      "text/plain": [
       "<Figure size 432x288 with 1 Axes>"
      ]
     },
     "metadata": {
      "needs_background": "light"
     },
     "output_type": "display_data"
    },
    {
     "data": {
      "image/png": "[encoded data removed]",
      "text/plain": [
       "<Figure size 432x288 with 1 Axes>"
      ]
     },
     "metadata": {
      "needs_background": "light"
     },
     "output_type": "display_data"
    }
   ],
   "source": [
    "for feature in continuous:\n",
    "    df1.boxplot(column=feature, grid = False)\n",
    "    plt.title(feature)\n",
    "    plt.show()"
   ]
  },
  {
   "cell_type": "code",
   "execution_count": 14,
   "metadata": {},
   "outputs": [],
   "source": [
    "features_with_outliers = ['wall-motion-score', 'wall-motion-index', 'mult']"
   ]
  },
  {
   "cell_type": "code",
   "execution_count": 15,
   "metadata": {},
   "outputs": [],
   "source": [
    "for feature in continuous:\n",
    "    if feature in features_with_outliers:\n",
    "         df1[feature].fillna(df1[feature].median(), inplace=True)\n",
    "    else:\n",
    "         df1[feature].fillna(df1[feature].mean(), inplace=True)"
   ]
  },
  {
   "cell_type": "code",
   "execution_count": 16,
   "metadata": {},
   "outputs": [
    {
     "name": "stdout",
     "output_type": "stream",
     "text": [
      "<class 'pandas.core.frame.DataFrame'>\n",
      "Int64Index: 77 entries, 0 to 109\n",
      "Data columns (total 10 columns):\n",
      " #   Column                 Non-Null Count  Dtype  \n",
      "---  ------                 --------------  -----  \n",
      " 0   survival               77 non-null     float64\n",
      " 1   still-alive            77 non-null     int64  \n",
      " 2   age-at-heart-attack    77 non-null     float64\n",
      " 3   pericardial-effusion   77 non-null     int64  \n",
      " 4   fractional-shortening  77 non-null     float64\n",
      " 5   epss                   77 non-null     float64\n",
      " 6   lvdd                   77 non-null     float64\n",
      " 7   wall-motion-score      77 non-null     float64\n",
      " 8   wall-motion-index      77 non-null     float64\n",
      " 9   mult                   77 non-null     float64\n",
      "dtypes: float64(8), int64(2)\n",
      "memory usage: 6.6 KB\n"
     ]
    }
   ],
   "source": [
    "df1.info()"
   ]
  },
  {
   "cell_type": "code",
   "execution_count": null,
   "metadata": {},
   "outputs": [],
   "source": []
  },
  {
   "cell_type": "markdown",
   "metadata": {},
   "source": [
    "#### Create a new column to use as label"
   ]
  },
  {
   "cell_type": "code",
   "execution_count": 18,
   "metadata": {},
   "outputs": [],
   "source": [
    "df1.loc[(df1['survival']>=24) & (df1['still-alive']==1), 'Survived at least 2 years'] = 1\n",
    "df1.loc[(df1['survival']>=24) & (df1['still-alive']==0), 'Survived at least 2 years'] = 0\n",
    "df1.loc[(df1['survival']<24), 'Survived at least 2 years'] = 0"
   ]
  },
  {
   "cell_type": "code",
   "execution_count": 19,
   "metadata": {},
   "outputs": [
    {
     "name": "stdout",
     "output_type": "stream",
     "text": [
      "<class 'pandas.core.frame.DataFrame'>\n",
      "Int64Index: 77 entries, 0 to 109\n",
      "Data columns (total 11 columns):\n",
      " #   Column                     Non-Null Count  Dtype  \n",
      "---  ------                     --------------  -----  \n",
      " 0   survival                   77 non-null     float64\n",
      " 1   still-alive                77 non-null     int64  \n",
      " 2   age-at-heart-attack        77 non-null     float64\n",
      " 3   pericardial-effusion       77 non-null     int64  \n",
      " 4   fractional-shortening      77 non-null     float64\n",
      " 5   epss                       77 non-null     float64\n",
      " 6   lvdd                       77 non-null     float64\n",
      " 7   wall-motion-score          77 non-null     float64\n",
      " 8   wall-motion-index          77 non-null     float64\n",
      " 9   mult                       77 non-null     float64\n",
      " 10  Survived at least 2 years  77 non-null     float64\n",
      "dtypes: float64(9), int64(2)\n",
      "memory usage: 9.7 KB\n"
     ]
    }
   ],
   "source": [
    "df1.info()"
   ]
  },
  {
   "cell_type": "code",
   "execution_count": 20,
   "metadata": {},
   "outputs": [
    {
     "data": {
      "text/plain": [
       "0.0    76\n",
       "1.0     1\n",
       "Name: Survived at least 2 years, dtype: int64"
      ]
     },
     "execution_count": 20,
     "metadata": {},
     "output_type": "execute_result"
    }
   ],
   "source": [
    "df1['Survived at least 2 years'].value_counts()"
   ]
  },
  {
   "cell_type": "code",
   "execution_count": 21,
   "metadata": {},
   "outputs": [
    {
     "data": {
      "text/plain": [
       "<matplotlib.axes._subplots.AxesSubplot at 0x19d9020c7f0>"
      ]
     },
     "execution_count": 21,
     "metadata": {},
     "output_type": "execute_result"
    },
    {
     "data": {
      "image/png": "[encoded data removed]",
      "text/plain": [
       "<Figure size 432x288 with 1 Axes>"
      ]
     },
     "metadata": {
      "needs_background": "light"
     },
     "output_type": "display_data"
    }
   ],
   "source": [
    "sns.countplot(x='Survived at least 2 years',data=df1,palette='RdBu_r')"
   ]
  },
  {
   "cell_type": "markdown",
   "metadata": {},
   "source": [
    "#### For such extremely imbalanced situation, let's buid a model that predicts survivals of at least 1 year"
   ]
  },
  {
   "cell_type": "code",
   "execution_count": 25,
   "metadata": {},
   "outputs": [
    {
     "data": {
      "text/html": [
       "<div>\n",
       "<style scoped>\n",
       "    .dataframe tbody tr th:only-of-type {\n",
       "        vertical-align: middle;\n",
       "    }\n",
       "\n",
       "    .dataframe tbody tr th {\n",
       "        vertical-align: top;\n",
       "    }\n",
       "\n",
       "    .dataframe thead th {\n",
       "        text-align: right;\n",
       "    }\n",
       "</style>\n",
       "<table border=\"1\" class=\"dataframe\">\n",
       "  <thead>\n",
       "    <tr style=\"text-align: right;\">\n",
       "      <th></th>\n",
       "      <th>survival</th>\n",
       "      <th>still-alive</th>\n",
       "      <th>age-at-heart-attack</th>\n",
       "      <th>pericardial-effusion</th>\n",
       "      <th>fractional-shortening</th>\n",
       "      <th>epss</th>\n",
       "      <th>lvdd</th>\n",
       "      <th>wall-motion-score</th>\n",
       "      <th>wall-motion-index</th>\n",
       "      <th>mult</th>\n",
       "      <th>Survived at least 2 years</th>\n",
       "    </tr>\n",
       "  </thead>\n",
       "  <tbody>\n",
       "    <tr>\n",
       "      <th>0</th>\n",
       "      <td>11.0</td>\n",
       "      <td>0</td>\n",
       "      <td>71.0</td>\n",
       "      <td>0</td>\n",
       "      <td>0.260</td>\n",
       "      <td>9.000</td>\n",
       "      <td>4.600</td>\n",
       "      <td>14.0</td>\n",
       "      <td>1.000</td>\n",
       "      <td>1.000</td>\n",
       "      <td>0.0</td>\n",
       "    </tr>\n",
       "    <tr>\n",
       "      <th>1</th>\n",
       "      <td>19.0</td>\n",
       "      <td>0</td>\n",
       "      <td>72.0</td>\n",
       "      <td>0</td>\n",
       "      <td>0.380</td>\n",
       "      <td>6.000</td>\n",
       "      <td>4.100</td>\n",
       "      <td>14.0</td>\n",
       "      <td>1.700</td>\n",
       "      <td>0.588</td>\n",
       "      <td>0.0</td>\n",
       "    </tr>\n",
       "    <tr>\n",
       "      <th>2</th>\n",
       "      <td>16.0</td>\n",
       "      <td>0</td>\n",
       "      <td>55.0</td>\n",
       "      <td>0</td>\n",
       "      <td>0.260</td>\n",
       "      <td>4.000</td>\n",
       "      <td>3.420</td>\n",
       "      <td>14.0</td>\n",
       "      <td>1.000</td>\n",
       "      <td>1.000</td>\n",
       "      <td>0.0</td>\n",
       "    </tr>\n",
       "    <tr>\n",
       "      <th>3</th>\n",
       "      <td>57.0</td>\n",
       "      <td>0</td>\n",
       "      <td>60.0</td>\n",
       "      <td>0</td>\n",
       "      <td>0.253</td>\n",
       "      <td>12.062</td>\n",
       "      <td>4.603</td>\n",
       "      <td>16.0</td>\n",
       "      <td>1.450</td>\n",
       "      <td>0.788</td>\n",
       "      <td>0.0</td>\n",
       "    </tr>\n",
       "    <tr>\n",
       "      <th>4</th>\n",
       "      <td>19.0</td>\n",
       "      <td>1</td>\n",
       "      <td>57.0</td>\n",
       "      <td>0</td>\n",
       "      <td>0.160</td>\n",
       "      <td>22.000</td>\n",
       "      <td>5.750</td>\n",
       "      <td>18.0</td>\n",
       "      <td>2.250</td>\n",
       "      <td>0.571</td>\n",
       "      <td>0.0</td>\n",
       "    </tr>\n",
       "    <tr>\n",
       "      <th>5</th>\n",
       "      <td>26.0</td>\n",
       "      <td>0</td>\n",
       "      <td>68.0</td>\n",
       "      <td>0</td>\n",
       "      <td>0.260</td>\n",
       "      <td>5.000</td>\n",
       "      <td>4.310</td>\n",
       "      <td>12.0</td>\n",
       "      <td>1.000</td>\n",
       "      <td>0.857</td>\n",
       "      <td>0.0</td>\n",
       "    </tr>\n",
       "    <tr>\n",
       "      <th>6</th>\n",
       "      <td>13.0</td>\n",
       "      <td>0</td>\n",
       "      <td>62.0</td>\n",
       "      <td>0</td>\n",
       "      <td>0.230</td>\n",
       "      <td>31.000</td>\n",
       "      <td>5.430</td>\n",
       "      <td>22.5</td>\n",
       "      <td>1.875</td>\n",
       "      <td>0.857</td>\n",
       "      <td>0.0</td>\n",
       "    </tr>\n",
       "    <tr>\n",
       "      <th>7</th>\n",
       "      <td>50.0</td>\n",
       "      <td>0</td>\n",
       "      <td>60.0</td>\n",
       "      <td>0</td>\n",
       "      <td>0.330</td>\n",
       "      <td>8.000</td>\n",
       "      <td>5.250</td>\n",
       "      <td>14.0</td>\n",
       "      <td>1.000</td>\n",
       "      <td>1.000</td>\n",
       "      <td>0.0</td>\n",
       "    </tr>\n",
       "    <tr>\n",
       "      <th>8</th>\n",
       "      <td>19.0</td>\n",
       "      <td>0</td>\n",
       "      <td>46.0</td>\n",
       "      <td>0</td>\n",
       "      <td>0.340</td>\n",
       "      <td>0.000</td>\n",
       "      <td>5.090</td>\n",
       "      <td>16.0</td>\n",
       "      <td>1.140</td>\n",
       "      <td>1.003</td>\n",
       "      <td>0.0</td>\n",
       "    </tr>\n",
       "    <tr>\n",
       "      <th>9</th>\n",
       "      <td>25.0</td>\n",
       "      <td>0</td>\n",
       "      <td>54.0</td>\n",
       "      <td>0</td>\n",
       "      <td>0.140</td>\n",
       "      <td>13.000</td>\n",
       "      <td>4.490</td>\n",
       "      <td>15.5</td>\n",
       "      <td>1.190</td>\n",
       "      <td>0.930</td>\n",
       "      <td>0.0</td>\n",
       "    </tr>\n",
       "  </tbody>\n",
       "</table>\n",
       "</div>"
      ],
      "text/plain": [
       "   survival  still-alive  age-at-heart-attack  pericardial-effusion  \\\n",
       "0      11.0            0                 71.0                     0   \n",
       "1      19.0            0                 72.0                     0   \n",
       "2      16.0            0                 55.0                     0   \n",
       "3      57.0            0                 60.0                     0   \n",
       "4      19.0            1                 57.0                     0   \n",
       "5      26.0            0                 68.0                     0   \n",
       "6      13.0            0                 62.0                     0   \n",
       "7      50.0            0                 60.0                     0   \n",
       "8      19.0            0                 46.0                     0   \n",
       "9      25.0            0                 54.0                     0   \n",
       "\n",
       "   fractional-shortening    epss   lvdd  wall-motion-score  wall-motion-index  \\\n",
       "0                  0.260   9.000  4.600               14.0              1.000   \n",
       "1                  0.380   6.000  4.100               14.0              1.700   \n",
       "2                  0.260   4.000  3.420               14.0              1.000   \n",
       "3                  0.253  12.062  4.603               16.0              1.450   \n",
       "4                  0.160  22.000  5.750               18.0              2.250   \n",
       "5                  0.260   5.000  4.310               12.0              1.000   \n",
       "6                  0.230  31.000  5.430               22.5              1.875   \n",
       "7                  0.330   8.000  5.250               14.0              1.000   \n",
       "8                  0.340   0.000  5.090               16.0              1.140   \n",
       "9                  0.140  13.000  4.490               15.5              1.190   \n",
       "\n",
       "    mult  Survived at least 2 years  \n",
       "0  1.000                        0.0  \n",
       "1  0.588                        0.0  \n",
       "2  1.000                        0.0  \n",
       "3  0.788                        0.0  \n",
       "4  0.571                        0.0  \n",
       "5  0.857                        0.0  \n",
       "6  0.857                        0.0  \n",
       "7  1.000                        0.0  \n",
       "8  1.003                        0.0  \n",
       "9  0.930                        0.0  "
      ]
     },
     "execution_count": 25,
     "metadata": {},
     "output_type": "execute_result"
    }
   ],
   "source": [
    "df1.head(10)"
   ]
  },
  {
   "cell_type": "code",
   "execution_count": 26,
   "metadata": {},
   "outputs": [
    {
     "data": {
      "text/html": [
       "<div>\n",
       "<style scoped>\n",
       "    .dataframe tbody tr th:only-of-type {\n",
       "        vertical-align: middle;\n",
       "    }\n",
       "\n",
       "    .dataframe tbody tr th {\n",
       "        vertical-align: top;\n",
       "    }\n",
       "\n",
       "    .dataframe thead th {\n",
       "        text-align: right;\n",
       "    }\n",
       "</style>\n",
       "<table border=\"1\" class=\"dataframe\">\n",
       "  <thead>\n",
       "    <tr style=\"text-align: right;\">\n",
       "      <th></th>\n",
       "      <th>survival</th>\n",
       "      <th>still-alive</th>\n",
       "      <th>age-at-heart-attack</th>\n",
       "      <th>pericardial-effusion</th>\n",
       "      <th>fractional-shortening</th>\n",
       "      <th>epss</th>\n",
       "      <th>lvdd</th>\n",
       "      <th>wall-motion-score</th>\n",
       "      <th>wall-motion-index</th>\n",
       "      <th>mult</th>\n",
       "    </tr>\n",
       "  </thead>\n",
       "  <tbody>\n",
       "    <tr>\n",
       "      <th>0</th>\n",
       "      <td>11.0</td>\n",
       "      <td>0</td>\n",
       "      <td>71.0</td>\n",
       "      <td>0</td>\n",
       "      <td>0.260</td>\n",
       "      <td>9.000</td>\n",
       "      <td>4.600</td>\n",
       "      <td>14.0</td>\n",
       "      <td>1.000</td>\n",
       "      <td>1.000</td>\n",
       "    </tr>\n",
       "    <tr>\n",
       "      <th>1</th>\n",
       "      <td>19.0</td>\n",
       "      <td>0</td>\n",
       "      <td>72.0</td>\n",
       "      <td>0</td>\n",
       "      <td>0.380</td>\n",
       "      <td>6.000</td>\n",
       "      <td>4.100</td>\n",
       "      <td>14.0</td>\n",
       "      <td>1.700</td>\n",
       "      <td>0.588</td>\n",
       "    </tr>\n",
       "    <tr>\n",
       "      <th>2</th>\n",
       "      <td>16.0</td>\n",
       "      <td>0</td>\n",
       "      <td>55.0</td>\n",
       "      <td>0</td>\n",
       "      <td>0.260</td>\n",
       "      <td>4.000</td>\n",
       "      <td>3.420</td>\n",
       "      <td>14.0</td>\n",
       "      <td>1.000</td>\n",
       "      <td>1.000</td>\n",
       "    </tr>\n",
       "    <tr>\n",
       "      <th>3</th>\n",
       "      <td>57.0</td>\n",
       "      <td>0</td>\n",
       "      <td>60.0</td>\n",
       "      <td>0</td>\n",
       "      <td>0.253</td>\n",
       "      <td>12.062</td>\n",
       "      <td>4.603</td>\n",
       "      <td>16.0</td>\n",
       "      <td>1.450</td>\n",
       "      <td>0.788</td>\n",
       "    </tr>\n",
       "    <tr>\n",
       "      <th>4</th>\n",
       "      <td>19.0</td>\n",
       "      <td>1</td>\n",
       "      <td>57.0</td>\n",
       "      <td>0</td>\n",
       "      <td>0.160</td>\n",
       "      <td>22.000</td>\n",
       "      <td>5.750</td>\n",
       "      <td>18.0</td>\n",
       "      <td>2.250</td>\n",
       "      <td>0.571</td>\n",
       "    </tr>\n",
       "    <tr>\n",
       "      <th>5</th>\n",
       "      <td>26.0</td>\n",
       "      <td>0</td>\n",
       "      <td>68.0</td>\n",
       "      <td>0</td>\n",
       "      <td>0.260</td>\n",
       "      <td>5.000</td>\n",
       "      <td>4.310</td>\n",
       "      <td>12.0</td>\n",
       "      <td>1.000</td>\n",
       "      <td>0.857</td>\n",
       "    </tr>\n",
       "    <tr>\n",
       "      <th>6</th>\n",
       "      <td>13.0</td>\n",
       "      <td>0</td>\n",
       "      <td>62.0</td>\n",
       "      <td>0</td>\n",
       "      <td>0.230</td>\n",
       "      <td>31.000</td>\n",
       "      <td>5.430</td>\n",
       "      <td>22.5</td>\n",
       "      <td>1.875</td>\n",
       "      <td>0.857</td>\n",
       "    </tr>\n",
       "    <tr>\n",
       "      <th>7</th>\n",
       "      <td>50.0</td>\n",
       "      <td>0</td>\n",
       "      <td>60.0</td>\n",
       "      <td>0</td>\n",
       "      <td>0.330</td>\n",
       "      <td>8.000</td>\n",
       "      <td>5.250</td>\n",
       "      <td>14.0</td>\n",
       "      <td>1.000</td>\n",
       "      <td>1.000</td>\n",
       "    </tr>\n",
       "    <tr>\n",
       "      <th>8</th>\n",
       "      <td>19.0</td>\n",
       "      <td>0</td>\n",
       "      <td>46.0</td>\n",
       "      <td>0</td>\n",
       "      <td>0.340</td>\n",
       "      <td>0.000</td>\n",
       "      <td>5.090</td>\n",
       "      <td>16.0</td>\n",
       "      <td>1.140</td>\n",
       "      <td>1.003</td>\n",
       "    </tr>\n",
       "    <tr>\n",
       "      <th>9</th>\n",
       "      <td>25.0</td>\n",
       "      <td>0</td>\n",
       "      <td>54.0</td>\n",
       "      <td>0</td>\n",
       "      <td>0.140</td>\n",
       "      <td>13.000</td>\n",
       "      <td>4.490</td>\n",
       "      <td>15.5</td>\n",
       "      <td>1.190</td>\n",
       "      <td>0.930</td>\n",
       "    </tr>\n",
       "  </tbody>\n",
       "</table>\n",
       "</div>"
      ],
      "text/plain": [
       "   survival  still-alive  age-at-heart-attack  pericardial-effusion  \\\n",
       "0      11.0            0                 71.0                     0   \n",
       "1      19.0            0                 72.0                     0   \n",
       "2      16.0            0                 55.0                     0   \n",
       "3      57.0            0                 60.0                     0   \n",
       "4      19.0            1                 57.0                     0   \n",
       "5      26.0            0                 68.0                     0   \n",
       "6      13.0            0                 62.0                     0   \n",
       "7      50.0            0                 60.0                     0   \n",
       "8      19.0            0                 46.0                     0   \n",
       "9      25.0            0                 54.0                     0   \n",
       "\n",
       "   fractional-shortening    epss   lvdd  wall-motion-score  wall-motion-index  \\\n",
       "0                  0.260   9.000  4.600               14.0              1.000   \n",
       "1                  0.380   6.000  4.100               14.0              1.700   \n",
       "2                  0.260   4.000  3.420               14.0              1.000   \n",
       "3                  0.253  12.062  4.603               16.0              1.450   \n",
       "4                  0.160  22.000  5.750               18.0              2.250   \n",
       "5                  0.260   5.000  4.310               12.0              1.000   \n",
       "6                  0.230  31.000  5.430               22.5              1.875   \n",
       "7                  0.330   8.000  5.250               14.0              1.000   \n",
       "8                  0.340   0.000  5.090               16.0              1.140   \n",
       "9                  0.140  13.000  4.490               15.5              1.190   \n",
       "\n",
       "    mult  \n",
       "0  1.000  \n",
       "1  0.588  \n",
       "2  1.000  \n",
       "3  0.788  \n",
       "4  0.571  \n",
       "5  0.857  \n",
       "6  0.857  \n",
       "7  1.000  \n",
       "8  1.003  \n",
       "9  0.930  "
      ]
     },
     "execution_count": 26,
     "metadata": {},
     "output_type": "execute_result"
    }
   ],
   "source": [
    "df1.drop(columns = ['Survived at least 2 years'], inplace = True)\n",
    "df1.head(10)"
   ]
  },
  {
   "cell_type": "code",
   "execution_count": 27,
   "metadata": {},
   "outputs": [
    {
     "data": {
      "text/plain": [
       "<matplotlib.axes._subplots.AxesSubplot at 0x19d91095c70>"
      ]
     },
     "execution_count": 27,
     "metadata": {},
     "output_type": "execute_result"
    },
    {
     "data": {
      "image/png": "[encoded data removed]",
      "text/plain": [
       "<Figure size 432x288 with 1 Axes>"
      ]
     },
     "metadata": {
      "needs_background": "light"
     },
     "output_type": "display_data"
    }
   ],
   "source": [
    "sns.countplot(x='still-alive',data=df1,palette='RdBu_r')"
   ]
  },
  {
   "cell_type": "code",
   "execution_count": 28,
   "metadata": {},
   "outputs": [
    {
     "data": {
      "text/plain": [
       "0    70\n",
       "1     7\n",
       "Name: still-alive, dtype: int64"
      ]
     },
     "execution_count": 28,
     "metadata": {},
     "output_type": "execute_result"
    }
   ],
   "source": [
    "df1['still-alive'].value_counts()"
   ]
  },
  {
   "cell_type": "code",
   "execution_count": 29,
   "metadata": {},
   "outputs": [
    {
     "data": {
      "text/plain": [
       "survival                 0\n",
       "still-alive              0\n",
       "age-at-heart-attack      0\n",
       "pericardial-effusion     0\n",
       "fractional-shortening    0\n",
       "epss                     0\n",
       "lvdd                     0\n",
       "wall-motion-score        0\n",
       "wall-motion-index        0\n",
       "mult                     0\n",
       "dtype: int64"
      ]
     },
     "execution_count": 29,
     "metadata": {},
     "output_type": "execute_result"
    }
   ],
   "source": [
    "df1.isnull().sum()"
   ]
  },
  {
   "cell_type": "code",
   "execution_count": 31,
   "metadata": {},
   "outputs": [],
   "source": [
    "# Test local Outlier Factor\n",
    "\n",
    "from sklearn.neighbors import LocalOutlierFactor\n",
    "lof = LocalOutlierFactor()\n",
    "outliers_rows = lof.fit_predict(df1)"
   ]
  },
  {
   "cell_type": "code",
   "execution_count": 32,
   "metadata": {},
   "outputs": [],
   "source": [
    "mask = outliers_rows != -1"
   ]
  },
  {
   "cell_type": "code",
   "execution_count": 35,
   "metadata": {},
   "outputs": [
    {
     "data": {
      "text/plain": [
       "77"
      ]
     },
     "execution_count": 35,
     "metadata": {},
     "output_type": "execute_result"
    }
   ],
   "source": [
    "len(mask)"
   ]
  },
  {
   "cell_type": "markdown",
   "metadata": {},
   "source": [
    "#### Looks like there are no more anomalies in the dataset"
   ]
  },
  {
   "cell_type": "code",
   "execution_count": 36,
   "metadata": {},
   "outputs": [],
   "source": [
    "from sklearn.model_selection import train_test_split\n",
    "from sklearn.linear_model import LogisticRegression\n",
    "from sklearn.tree import DecisionTreeClassifier\n",
    "from sklearn.ensemble import RandomForestClassifier, GradientBoostingClassifier\n",
    "from sklearn.metrics import accuracy_score, classification_report"
   ]
  },
  {
   "cell_type": "code",
   "execution_count": 50,
   "metadata": {},
   "outputs": [],
   "source": [
    "from sklearn.preprocessing import StandardScaler\n",
    "\n",
    "data1 = pd.get_dummies(df1, columns = discrete, drop_first = True)\n",
    "scaler = StandardScaler()\n",
    "data1[continuous] = scaler.fit_transform(data1[continuous])"
   ]
  },
  {
   "cell_type": "code",
   "execution_count": 51,
   "metadata": {},
   "outputs": [
    {
     "data": {
      "text/html": [
       "<div>\n",
       "<style scoped>\n",
       "    .dataframe tbody tr th:only-of-type {\n",
       "        vertical-align: middle;\n",
       "    }\n",
       "\n",
       "    .dataframe tbody tr th {\n",
       "        vertical-align: top;\n",
       "    }\n",
       "\n",
       "    .dataframe thead th {\n",
       "        text-align: right;\n",
       "    }\n",
       "</style>\n",
       "<table border=\"1\" class=\"dataframe\">\n",
       "  <thead>\n",
       "    <tr style=\"text-align: right;\">\n",
       "      <th></th>\n",
       "      <th>survival</th>\n",
       "      <th>still-alive</th>\n",
       "      <th>age-at-heart-attack</th>\n",
       "      <th>fractional-shortening</th>\n",
       "      <th>epss</th>\n",
       "      <th>lvdd</th>\n",
       "      <th>wall-motion-score</th>\n",
       "      <th>wall-motion-index</th>\n",
       "      <th>mult</th>\n",
       "      <th>pericardial-effusion_1</th>\n",
       "    </tr>\n",
       "  </thead>\n",
       "  <tbody>\n",
       "    <tr>\n",
       "      <th>0</th>\n",
       "      <td>-1.490486</td>\n",
       "      <td>0</td>\n",
       "      <td>1.080585</td>\n",
       "      <td>0.233467</td>\n",
       "      <td>-0.362247</td>\n",
       "      <td>-0.084470</td>\n",
       "      <td>0.128162</td>\n",
       "      <td>-0.753098</td>\n",
       "      <td>0.953213</td>\n",
       "      <td>0</td>\n",
       "    </tr>\n",
       "    <tr>\n",
       "      <th>1</th>\n",
       "      <td>-0.849551</td>\n",
       "      <td>0</td>\n",
       "      <td>1.198942</td>\n",
       "      <td>1.310448</td>\n",
       "      <td>-0.873142</td>\n",
       "      <td>-0.723867</td>\n",
       "      <td>0.128162</td>\n",
       "      <td>1.219685</td>\n",
       "      <td>-0.991839</td>\n",
       "      <td>0</td>\n",
       "    </tr>\n",
       "    <tr>\n",
       "      <th>2</th>\n",
       "      <td>-1.089902</td>\n",
       "      <td>0</td>\n",
       "      <td>-0.813129</td>\n",
       "      <td>0.233467</td>\n",
       "      <td>-1.213739</td>\n",
       "      <td>-1.593446</td>\n",
       "      <td>0.128162</td>\n",
       "      <td>-0.753098</td>\n",
       "      <td>0.953213</td>\n",
       "      <td>0</td>\n",
       "    </tr>\n",
       "    <tr>\n",
       "      <th>3</th>\n",
       "      <td>2.194891</td>\n",
       "      <td>0</td>\n",
       "      <td>-0.221343</td>\n",
       "      <td>0.170643</td>\n",
       "      <td>0.159206</td>\n",
       "      <td>-0.080634</td>\n",
       "      <td>0.652244</td>\n",
       "      <td>0.515120</td>\n",
       "      <td>-0.047639</td>\n",
       "      <td>0</td>\n",
       "    </tr>\n",
       "    <tr>\n",
       "      <th>4</th>\n",
       "      <td>-0.849551</td>\n",
       "      <td>1</td>\n",
       "      <td>-0.576414</td>\n",
       "      <td>-0.664017</td>\n",
       "      <td>1.851631</td>\n",
       "      <td>1.386141</td>\n",
       "      <td>1.176327</td>\n",
       "      <td>2.769730</td>\n",
       "      <td>-1.072096</td>\n",
       "      <td>0</td>\n",
       "    </tr>\n",
       "    <tr>\n",
       "      <th>5</th>\n",
       "      <td>-0.288733</td>\n",
       "      <td>0</td>\n",
       "      <td>0.725514</td>\n",
       "      <td>0.233467</td>\n",
       "      <td>-1.043440</td>\n",
       "      <td>-0.455320</td>\n",
       "      <td>-0.395920</td>\n",
       "      <td>-0.753098</td>\n",
       "      <td>0.278110</td>\n",
       "      <td>0</td>\n",
       "    </tr>\n",
       "    <tr>\n",
       "      <th>6</th>\n",
       "      <td>-1.330253</td>\n",
       "      <td>0</td>\n",
       "      <td>0.015371</td>\n",
       "      <td>-0.035778</td>\n",
       "      <td>3.384316</td>\n",
       "      <td>0.976928</td>\n",
       "      <td>2.355513</td>\n",
       "      <td>1.712881</td>\n",
       "      <td>0.278110</td>\n",
       "      <td>0</td>\n",
       "    </tr>\n",
       "    <tr>\n",
       "      <th>7</th>\n",
       "      <td>1.634072</td>\n",
       "      <td>0</td>\n",
       "      <td>-0.221343</td>\n",
       "      <td>0.861706</td>\n",
       "      <td>-0.532545</td>\n",
       "      <td>0.746745</td>\n",
       "      <td>0.128162</td>\n",
       "      <td>-0.753098</td>\n",
       "      <td>0.953213</td>\n",
       "      <td>0</td>\n",
       "    </tr>\n",
       "    <tr>\n",
       "      <th>8</th>\n",
       "      <td>-0.849551</td>\n",
       "      <td>0</td>\n",
       "      <td>-1.878342</td>\n",
       "      <td>0.951454</td>\n",
       "      <td>-1.894932</td>\n",
       "      <td>0.542138</td>\n",
       "      <td>0.652244</td>\n",
       "      <td>-0.358542</td>\n",
       "      <td>0.967376</td>\n",
       "      <td>0</td>\n",
       "    </tr>\n",
       "    <tr>\n",
       "      <th>9</th>\n",
       "      <td>-0.368850</td>\n",
       "      <td>0</td>\n",
       "      <td>-0.931486</td>\n",
       "      <td>-0.843514</td>\n",
       "      <td>0.318946</td>\n",
       "      <td>-0.225138</td>\n",
       "      <td>0.521224</td>\n",
       "      <td>-0.217628</td>\n",
       "      <td>0.622743</td>\n",
       "      <td>0</td>\n",
       "    </tr>\n",
       "  </tbody>\n",
       "</table>\n",
       "</div>"
      ],
      "text/plain": [
       "   survival  still-alive  age-at-heart-attack  fractional-shortening  \\\n",
       "0 -1.490486            0             1.080585               0.233467   \n",
       "1 -0.849551            0             1.198942               1.310448   \n",
       "2 -1.089902            0            -0.813129               0.233467   \n",
       "3  2.194891            0            -0.221343               0.170643   \n",
       "4 -0.849551            1            -0.576414              -0.664017   \n",
       "5 -0.288733            0             0.725514               0.233467   \n",
       "6 -1.330253            0             0.015371              -0.035778   \n",
       "7  1.634072            0            -0.221343               0.861706   \n",
       "8 -0.849551            0            -1.878342               0.951454   \n",
       "9 -0.368850            0            -0.931486              -0.843514   \n",
       "\n",
       "       epss      lvdd  wall-motion-score  wall-motion-index      mult  \\\n",
       "0 -0.362247 -0.084470           0.128162          -0.753098  0.953213   \n",
       "1 -0.873142 -0.723867           0.128162           1.219685 -0.991839   \n",
       "2 -1.213739 -1.593446           0.128162          -0.753098  0.953213   \n",
       "3  0.159206 -0.080634           0.652244           0.515120 -0.047639   \n",
       "4  1.851631  1.386141           1.176327           2.769730 -1.072096   \n",
       "5 -1.043440 -0.455320          -0.395920          -0.753098  0.278110   \n",
       "6  3.384316  0.976928           2.355513           1.712881  0.278110   \n",
       "7 -0.532545  0.746745           0.128162          -0.753098  0.953213   \n",
       "8 -1.894932  0.542138           0.652244          -0.358542  0.967376   \n",
       "9  0.318946 -0.225138           0.521224          -0.217628  0.622743   \n",
       "\n",
       "   pericardial-effusion_1  \n",
       "0                       0  \n",
       "1                       0  \n",
       "2                       0  \n",
       "3                       0  \n",
       "4                       0  \n",
       "5                       0  \n",
       "6                       0  \n",
       "7                       0  \n",
       "8                       0  \n",
       "9                       0  "
      ]
     },
     "execution_count": 51,
     "metadata": {},
     "output_type": "execute_result"
    }
   ],
   "source": [
    "data1.head(10)"
   ]
  },
  {
   "cell_type": "code",
   "execution_count": 52,
   "metadata": {},
   "outputs": [],
   "source": [
    "X = data1.drop(['still-alive'], axis=1)\n",
    "y = data1['still-alive']"
   ]
  },
  {
   "cell_type": "code",
   "execution_count": 53,
   "metadata": {},
   "outputs": [
    {
     "data": {
      "text/plain": [
       "((53, 9), (24, 9))"
      ]
     },
     "execution_count": 53,
     "metadata": {},
     "output_type": "execute_result"
    }
   ],
   "source": [
    "X_train, X_test, y_train, y_test = train_test_split(X, y, test_size=0.3, random_state=0)\n",
    "X_train.shape, X_test.shape"
   ]
  },
  {
   "cell_type": "code",
   "execution_count": 60,
   "metadata": {},
   "outputs": [
    {
     "data": {
      "text/plain": [
       "((53,), (24,))"
      ]
     },
     "execution_count": 60,
     "metadata": {},
     "output_type": "execute_result"
    }
   ],
   "source": [
    "y_train.shape, y_test.shape"
   ]
  },
  {
   "cell_type": "code",
   "execution_count": 58,
   "metadata": {},
   "outputs": [],
   "source": [
    "from sklearn.metrics import confusion_matrix\n",
    "from sklearn.metrics import accuracy_score\n",
    "from sklearn.metrics import classification_report\n",
    "from sklearn.metrics import f1_score\n",
    "from sklearn.metrics import roc_auc_score\n",
    "from sklearn.metrics import average_precision_score\n",
    "from sklearn.metrics import recall_score\n",
    "from sklearn import datasets, metrics, model_selection, svm"
   ]
  },
  {
   "cell_type": "code",
   "execution_count": 54,
   "metadata": {},
   "outputs": [
    {
     "name": "stdout",
     "output_type": "stream",
     "text": [
      "0.875\n"
     ]
    },
    {
     "data": {
      "text/plain": [
       "87.5"
      ]
     },
     "execution_count": 54,
     "metadata": {},
     "output_type": "execute_result"
    }
   ],
   "source": [
    "model1 = LogisticRegression(max_iter=200)\n",
    "model1.fit(X_train, y_train)\n",
    "y_pred1 = model1.predict(X_test)\n",
    "print(accuracy_score(y_test, y_pred1))\n",
    "accuracy_score(y_test, y_pred1)*100"
   ]
  },
  {
   "cell_type": "code",
   "execution_count": 59,
   "metadata": {},
   "outputs": [
    {
     "name": "stdout",
     "output_type": "stream",
     "text": [
      "Confusion Matrix \n",
      " [[21  2]\n",
      " [ 1  0]]\n",
      "\n",
      "f1_score \n",
      " 0.0\n",
      "\n",
      "average_precision_score \n",
      " 0.041666666666666664\n",
      "\n",
      "recall_score \n",
      " 0.0\n",
      "\n",
      "Classification Report \n",
      "               precision    recall  f1-score   support\n",
      "\n",
      "           0       0.95      0.91      0.93        23\n",
      "           1       0.00      0.00      0.00         1\n",
      "\n",
      "    accuracy                           0.88        24\n",
      "   macro avg       0.48      0.46      0.47        24\n",
      "weighted avg       0.91      0.88      0.89        24\n",
      "\n"
     ]
    },
    {
     "data": {
      "image/png": "[encoded data removed]",
      "text/plain": [
       "<Figure size 432x288 with 1 Axes>"
      ]
     },
     "metadata": {
      "needs_background": "light"
     },
     "output_type": "display_data"
    }
   ],
   "source": [
    "print('Confusion Matrix \\n',confusion_matrix(y_test,y_pred1))\n",
    "print()\n",
    "print('f1_score \\n', f1_score(y_test,y_pred1))\n",
    "print()\n",
    "print('average_precision_score \\n', average_precision_score(y_test,y_pred1))\n",
    "print()\n",
    "print('recall_score \\n', recall_score(y_test,y_pred1))\n",
    "print()\n",
    "print('Classification Report \\n',classification_report(y_test,y_pred1))\n",
    "metrics.plot_roc_curve(model1, X_test, y_test)  \n",
    "plt.show()"
   ]
  },
  {
   "cell_type": "code",
   "execution_count": 55,
   "metadata": {},
   "outputs": [
    {
     "name": "stdout",
     "output_type": "stream",
     "text": [
      "0.875\n"
     ]
    },
    {
     "data": {
      "text/plain": [
       "87.5"
      ]
     },
     "execution_count": 55,
     "metadata": {},
     "output_type": "execute_result"
    }
   ],
   "source": [
    "model2 = DecisionTreeClassifier(max_depth=3)\n",
    "model2.fit(X_train, y_train)\n",
    "y_pred2 = model2.predict(X_test)\n",
    "print(accuracy_score(y_test, y_pred2))\n",
    "accuracy_score(y_test, y_pred2)*100"
   ]
  },
  {
   "cell_type": "code",
   "execution_count": 62,
   "metadata": {},
   "outputs": [
    {
     "name": "stdout",
     "output_type": "stream",
     "text": [
      "Confusion Matrix \n",
      " [[21  2]\n",
      " [ 1  0]]\n",
      "\n",
      "f1_score \n",
      " 0.0\n",
      "\n",
      "average_precision_score \n",
      " 0.041666666666666664\n",
      "\n",
      "recall_score \n",
      " 0.0\n",
      "\n",
      "Classification Report \n",
      "               precision    recall  f1-score   support\n",
      "\n",
      "           0       0.95      0.91      0.93        23\n",
      "           1       0.00      0.00      0.00         1\n",
      "\n",
      "    accuracy                           0.88        24\n",
      "   macro avg       0.48      0.46      0.47        24\n",
      "weighted avg       0.91      0.88      0.89        24\n",
      "\n"
     ]
    },
    {
     "data": {
      "image/png": "[encoded data removed]",
      "text/plain": [
       "<Figure size 432x288 with 1 Axes>"
      ]
     },
     "metadata": {
      "needs_background": "light"
     },
     "output_type": "display_data"
    }
   ],
   "source": [
    "print('Confusion Matrix \\n',confusion_matrix(y_test,y_pred2))\n",
    "print()\n",
    "print('f1_score \\n', f1_score(y_test,y_pred2))\n",
    "print()\n",
    "print('average_precision_score \\n', average_precision_score(y_test,y_pred2))\n",
    "print()\n",
    "print('recall_score \\n', recall_score(y_pred2,y_test))\n",
    "print()\n",
    "print('Classification Report \\n',classification_report(y_test,y_pred2))\n",
    "metrics.plot_roc_curve(model2, X_test, y_test)  \n",
    "plt.show()"
   ]
  },
  {
   "cell_type": "code",
   "execution_count": 63,
   "metadata": {},
   "outputs": [
    {
     "name": "stdout",
     "output_type": "stream",
     "text": [
      "0.9166666666666666\n"
     ]
    },
    {
     "data": {
      "text/plain": [
       "91.66666666666666"
      ]
     },
     "execution_count": 63,
     "metadata": {},
     "output_type": "execute_result"
    }
   ],
   "source": [
    "model3 = RandomForestClassifier(max_depth=6)\n",
    "model3.fit(X_train, y_train)\n",
    "y_pred3 = model3.predict(X_test)\n",
    "print(accuracy_score(y_test, y_pred3))\n",
    "accuracy_score(y_test, y_pred3)*100"
   ]
  },
  {
   "cell_type": "code",
   "execution_count": 64,
   "metadata": {},
   "outputs": [
    {
     "name": "stdout",
     "output_type": "stream",
     "text": [
      "Confusion Matrix \n",
      " [[22  2]\n",
      " [ 0  0]]\n",
      "\n",
      "f1_score \n",
      " 0.0\n",
      "\n",
      "average_precision_score \n",
      " nan\n",
      "\n",
      "recall_score \n",
      " 0.0\n",
      "\n",
      "Classification Report \n",
      "               precision    recall  f1-score   support\n",
      "\n",
      "           0       1.00      0.92      0.96        24\n",
      "           1       0.00      0.00      0.00         0\n",
      "\n",
      "    accuracy                           0.92        24\n",
      "   macro avg       0.50      0.46      0.48        24\n",
      "weighted avg       1.00      0.92      0.96        24\n",
      "\n"
     ]
    },
    {
     "name": "stderr",
     "output_type": "stream",
     "text": [
      "C:\\Users\\felip\\anaconda3\\lib\\site-packages\\sklearn\\metrics\\_ranking.py:817: RuntimeWarning: invalid value encountered in true_divide\n",
      "  recall = tps / tps[-1]\n",
      "C:\\Users\\felip\\anaconda3\\lib\\site-packages\\sklearn\\metrics\\_classification.py:1248: UndefinedMetricWarning: Recall is ill-defined and being set to 0.0 due to no true samples. Use `zero_division` parameter to control this behavior.\n",
      "  _warn_prf(average, modifier, msg_start, len(result))\n",
      "C:\\Users\\felip\\anaconda3\\lib\\site-packages\\sklearn\\metrics\\_classification.py:1248: UndefinedMetricWarning: Recall and F-score are ill-defined and being set to 0.0 in labels with no true samples. Use `zero_division` parameter to control this behavior.\n",
      "  _warn_prf(average, modifier, msg_start, len(result))\n",
      "C:\\Users\\felip\\anaconda3\\lib\\site-packages\\sklearn\\metrics\\_classification.py:1248: UndefinedMetricWarning: Recall and F-score are ill-defined and being set to 0.0 in labels with no true samples. Use `zero_division` parameter to control this behavior.\n",
      "  _warn_prf(average, modifier, msg_start, len(result))\n",
      "C:\\Users\\felip\\anaconda3\\lib\\site-packages\\sklearn\\metrics\\_classification.py:1248: UndefinedMetricWarning: Recall and F-score are ill-defined and being set to 0.0 in labels with no true samples. Use `zero_division` parameter to control this behavior.\n",
      "  _warn_prf(average, modifier, msg_start, len(result))\n"
     ]
    },
    {
     "data": {
      "image/png": "[encoded data removed]",
      "text/plain": [
       "<Figure size 432x288 with 1 Axes>"
      ]
     },
     "metadata": {
      "needs_background": "light"
     },
     "output_type": "display_data"
    }
   ],
   "source": [
    "print('Confusion Matrix \\n',confusion_matrix(y_test,y_pred3))\n",
    "print()\n",
    "print('f1_score \\n', f1_score(y_test,y_pred3))\n",
    "print()\n",
    "print('average_precision_score \\n', average_precision_score(y_test,y_pred3))\n",
    "print()\n",
    "print('recall_score \\n', recall_score(y_test,y_pred3))\n",
    "print()\n",
    "print('Classification Report \\n',classification_report(y_test,y_pred3))\n",
    "metrics.plot_roc_curve(model3, X_test, y_test)  \n",
    "plt.show()"
   ]
  },
  {
   "cell_type": "code",
   "execution_count": 65,
   "metadata": {},
   "outputs": [
    {
     "name": "stdout",
     "output_type": "stream",
     "text": [
      "0.8333333333333334\n"
     ]
    },
    {
     "data": {
      "text/plain": [
       "83.33333333333334"
      ]
     },
     "execution_count": 65,
     "metadata": {},
     "output_type": "execute_result"
    }
   ],
   "source": [
    "model4 = GradientBoostingClassifier(n_estimators=300, learning_rate=0.1)\n",
    "model4.fit(X_train, y_train)\n",
    "y_pred4 = model4.predict(X_test)\n",
    "print(accuracy_score(y_test, y_pred4))\n",
    "accuracy_score(y_test, y_pred4)*100"
   ]
  },
  {
   "cell_type": "code",
   "execution_count": 66,
   "metadata": {},
   "outputs": [
    {
     "name": "stdout",
     "output_type": "stream",
     "text": [
      "Confusion Matrix \n",
      " [[20  2]\n",
      " [ 2  0]]\n",
      "\n",
      "f1_score \n",
      " 0.0\n",
      "\n",
      "average_precision_score \n",
      " 0.08333333333333333\n",
      "\n",
      "recall_score \n",
      " 0.0\n",
      "\n",
      "Classification Report \n",
      "               precision    recall  f1-score   support\n",
      "\n",
      "           0       0.91      0.91      0.91        22\n",
      "           1       0.00      0.00      0.00         2\n",
      "\n",
      "    accuracy                           0.83        24\n",
      "   macro avg       0.45      0.45      0.45        24\n",
      "weighted avg       0.83      0.83      0.83        24\n",
      "\n"
     ]
    },
    {
     "data": {
      "image/png": "[encoded data removed]",
      "text/plain": [
       "<Figure size 432x288 with 1 Axes>"
      ]
     },
     "metadata": {
      "needs_background": "light"
     },
     "output_type": "display_data"
    }
   ],
   "source": [
    "print('Confusion Matrix \\n',confusion_matrix(y_test,y_pred4))\n",
    "print()\n",
    "print('f1_score \\n', f1_score(y_test,y_pred4))\n",
    "print()\n",
    "print('average_precision_score \\n', average_precision_score(y_test,y_pred4))\n",
    "print()\n",
    "print('recall_score \\n', recall_score(y_test,y_pred4))\n",
    "print()\n",
    "print('Classification Report \\n',classification_report(y_test,y_pred4))\n",
    "metrics.plot_roc_curve(model4, X_test, y_test)  \n",
    "plt.show()"
   ]
  },
  {
   "cell_type": "code",
   "execution_count": null,
   "metadata": {},
   "outputs": [],
   "source": []
  }
 ],
 "metadata": {
  "kernelspec": {
   "display_name": "Python 3",
   "language": "python",
   "name": "python3"
  },
  "language_info": {
   "codemirror_mode": {
    "name": "ipython",
    "version": 3
   },
   "file_extension": ".py",
   "mimetype": "text/x-python",
   "name": "python",
   "nbconvert_exporter": "python",
   "pygments_lexer": "ipython3",
   "version": "3.8.3"
  }
 },
 "nbformat": 4,
 "nbformat_minor": 4
}
